{
 "cells": [
  {
   "cell_type": "markdown",
   "metadata": {},
   "source": [
    "# Redis 流示例(Stream Examples)"
   ]
  },
  {
   "cell_type": "markdown",
   "metadata": {},
   "source": [
    "## 基本配置(basic config)"
   ]
  },
  {
   "cell_type": "code",
   "execution_count": 1,
   "metadata": {},
   "outputs": [],
   "source": [
    "redis_host = \"redis\"\n",
    "stream_key = \"skey\"\n",
    "stream2_key = \"s2key\"\n",
    "group1 = \"grp1\"\n",
    "group2 = \"grp2\""
   ]
  },
  {
   "cell_type": "markdown",
   "metadata": {},
   "source": [
    "## 连接(connection)"
   ]
  },
  {
   "cell_type": "code",
   "execution_count": 2,
   "metadata": {},
   "outputs": [
    {
     "data": {
      "text/plain": [
       "True"
      ]
     },
     "execution_count": 2,
     "metadata": {},
     "output_type": "execute_result"
    }
   ],
   "source": [
    "import redis\n",
    "from time import time\n",
    "from redis.exceptions import ConnectionError, DataError, NoScriptError, RedisError, ResponseError\n",
    "\n",
    "r = redis.Redis( redis_host )\n",
    "r.ping()"
   ]
  },
  {
   "cell_type": "markdown",
   "metadata": {},
   "source": [
    "## xadd 和 xread"
   ]
  },
  {
   "cell_type": "markdown",
   "metadata": {},
   "source": [
    "### 添加一些数据到流(stream)"
   ]
  },
  {
   "cell_type": "code",
   "execution_count": 3,
   "metadata": {},
   "outputs": [
    {
     "name": "stdout",
     "output_type": "stream",
     "text": [
      "stream length: 10\n"
     ]
    }
   ],
   "source": [
    "for i in range(0,10):\n",
    "    r.xadd( stream_key, { 'ts': time(), 'v': i } )\n",
    "print( f\"stream length: {r.xlen( stream_key )}\")"
   ]
  },
  {
   "cell_type": "markdown",
   "metadata": {},
   "source": [
    "### 从流(stream)读取一些数据"
   ]
  },
  {
   "cell_type": "code",
   "execution_count": 4,
   "metadata": {},
   "outputs": [
    {
     "name": "stdout",
     "output_type": "stream",
     "text": [
      "[[b'skey', [(b'1710790167982-0', {b'ts': b'1710790167.9824948', b'v': b'0'}), (b'1710790167983-0', {b'ts': b'1710790167.9830241', b'v': b'1'})]]]\n"
     ]
    }
   ],
   "source": [
    "## read 2 entries from stream_key\n",
    "l = r.xread( count=2, streams={stream_key:0} )\n",
    "print(l)"
   ]
  },
  {
   "cell_type": "markdown",
   "metadata": {},
   "source": [
    "### 从返回结构提取数据(extract data from the returned structure)"
   ]
  },
  {
   "cell_type": "code",
   "execution_count": 5,
   "metadata": {},
   "outputs": [
    {
     "name": "stdout",
     "output_type": "stream",
     "text": [
      "got data from stream: b'skey'\n",
      "id: b'1710790167982-0' value: b'0'\n",
      "id: b'1710790167983-0' value: b'1'\n"
     ]
    }
   ],
   "source": [
    "first_stream = l[0]\n",
    "print( f\"got data from stream: {first_stream[0]}\")\n",
    "fs_data = first_stream[1]\n",
    "for id, value in fs_data:\n",
    "    print( f\"id: {id} value: {value[b'v']}\")"
   ]
  },
  {
   "cell_type": "markdown",
   "metadata": {},
   "source": [
    "### 从流中读取更多数据\n",
    "\n",
    "如果我们使用相同的参数调用 `xread`，将会获取相同的数据。"
   ]
  },
  {
   "cell_type": "code",
   "execution_count": 6,
   "metadata": {},
   "outputs": [
    {
     "name": "stdout",
     "output_type": "stream",
     "text": [
      "id: b'1710790167982-0' value: b'0'\n",
      "id: b'1710790167983-0' value: b'1'\n"
     ]
    }
   ],
   "source": [
    "l = r.xread( count=2, streams={stream_key:0} )\n",
    "for id, value in l[0][1]:\n",
    "    print( f\"id: {id} value: {value[b'v']}\")"
   ]
  },
  {
   "cell_type": "markdown",
   "metadata": {},
   "source": [
    "要获取新数据，我们需要更改传递给调用的键（Key）。"
   ]
  },
  {
   "cell_type": "code",
   "execution_count": 7,
   "metadata": {},
   "outputs": [
    {
     "name": "stdout",
     "output_type": "stream",
     "text": [
      "id: b'1710790167983-1' value: b'2'\n",
      "id: b'1710790167983-2' value: b'3'\n"
     ]
    }
   ],
   "source": [
    "last_id_returned = l[0][1][-1][0]\n",
    "l = r.xread( count=2, streams={stream_key: last_id_returned} )\n",
    "for id, value in l[0][1]:\n",
    "    print( f\"id: {id} value: {value[b'v']}\")"
   ]
  },
  {
   "cell_type": "code",
   "execution_count": 8,
   "metadata": {},
   "outputs": [
    {
     "name": "stdout",
     "output_type": "stream",
     "text": [
      "id: b'1710790167983-3' value: b'4'\n",
      "id: b'1710790167983-4' value: b'5'\n"
     ]
    }
   ],
   "source": [
    "last_id_returned = l[0][1][-1][0]\n",
    "l = r.xread( count=2, streams={stream_key: last_id_returned} )\n",
    "for id, value in l[0][1]:\n",
    "    print( f\"id: {id} value: {value[b'v']}\")"
   ]
  },
  {
   "cell_type": "markdown",
   "metadata": {},
   "source": [
    "仅获取较新的条目。"
   ]
  },
  {
   "cell_type": "code",
   "execution_count": 9,
   "metadata": {},
   "outputs": [
    {
     "name": "stdout",
     "output_type": "stream",
     "text": [
      "stream length: 10\n",
      "after 5s block, got an empty list [], no *new* messages on the stream\n",
      "stream length: 10\n"
     ]
    }
   ],
   "source": [
    "print( f\"stream length: {r.xlen( stream_key )}\")\n",
    "# wait for 5s for new messages\n",
    "l = r.xread( count=1, block=5000, streams={stream_key: '$'} )\n",
    "print( f\"after 5s block, got an empty list {l}, no *new* messages on the stream\")\n",
    "print( f\"stream length: {r.xlen( stream_key )}\")"
   ]
  },
  {
   "cell_type": "markdown",
   "metadata": {},
   "source": [
    "获取流中的最后一条条目。"
   ]
  },
  {
   "cell_type": "code",
   "execution_count": 1,
   "metadata": {},
   "outputs": [
    {
     "name": "stdout",
     "output_type": "stream",
     "text": [
      "[[b'skey', [(b'1710790167984-0', {b'ts': b'1710790167.9839962', b'v': b'9'})]]]\n",
      "stream length: 10\n"
     ]
    }
   ],
   "source": [
    "# read the last available message\n",
    "l = r.xread( count=1, streams={stream_key: '+'} )\n",
    "print(l)\n",
    "print( f\"stream length: {r.xlen( stream_key )}\")"
   ]
  },
  {
   "cell_type": "markdown",
   "metadata": {},
   "source": [
    "### 第二个流(2nd stream)\n",
    "\n",
    "向第二个流添加一些消息。"
   ]
  },
  {
   "cell_type": "code",
   "execution_count": 10,
   "metadata": {},
   "outputs": [
    {
     "name": "stdout",
     "output_type": "stream",
     "text": [
      "stream length: 10\n"
     ]
    }
   ],
   "source": [
    "for i in range(1000,1010):\n",
    "    r.xadd( stream2_key, { 'v': i } )\n",
    "print( f\"stream length: {r.xlen( stream2_key )}\")"
   ]
  },
  {
   "cell_type": "markdown",
   "metadata": {},
   "source": [
    "从第二个流获取消息"
   ]
  },
  {
   "cell_type": "code",
   "execution_count": 11,
   "metadata": {},
   "outputs": [
    {
     "name": "stdout",
     "output_type": "stream",
     "text": [
      "got from b'skey' the entry [(b'1710790167982-0', {b'ts': b'1710790167.9824948', b'v': b'0'})]\n",
      "got from b's2key' the entry [(b'1710790173142-0', {b'v': b'1000'})]\n"
     ]
    }
   ],
   "source": [
    "l = r.xread( count=1, streams={stream_key:0,stream2_key:0} )\n",
    "for k,d in l:\n",
    "    print(f\"got from {k} the entry {d}\")"
   ]
  },
  {
   "cell_type": "markdown",
   "metadata": {},
   "source": [
    "# 流组(Stream groups)\n",
    "\n",
    "使用流组可以跟踪多个消费者，并在 Redis 端查看哪些消息已经被消费。\n",
    "\n",
    "## 向流中添加数据(add some data to streams)\n",
    "\n",
    "创建两个流，每个流包含 10 条消息。"
   ]
  },
  {
   "cell_type": "code",
   "execution_count": 12,
   "metadata": {},
   "outputs": [
    {
     "name": "stdout",
     "output_type": "stream",
     "text": [
      "stream 'skey' length: 20\n",
      "stream 's2key' length: 20\n"
     ]
    }
   ],
   "source": [
    "def add_some_data_to_stream( sname, key_range ):\n",
    "    for i in key_range:\n",
    "        r.xadd( sname, { 'ts': time(), 'v': i } )\n",
    "    print( f\"stream '{sname}' length: {r.xlen( stream_key )}\")\n",
    "\n",
    "add_some_data_to_stream( stream_key, range(0,10) )\n",
    "add_some_data_to_stream( stream2_key, range(1000,1010) )"
   ]
  },
  {
   "cell_type": "markdown",
   "metadata": {},
   "source": [
    "## 使用组从流中读取\n",
    "\n",
    "* 创建一个组 `grp1`，与流 `skey` 关联；\n",
    "* 创建一个组 `grp2`，与流 `skey` 和 `s2key` 关联。\n",
    "\n",
    "使用 `xinfo_group` 来验证组创建的结果。"
   ]
  },
  {
   "cell_type": "code",
   "execution_count": 13,
   "metadata": {},
   "outputs": [
    {
     "name": "stdout",
     "output_type": "stream",
     "text": [
      "skey -> group name: b'grp1' with 0 consumers and b'0-0' as last read id\n",
      "skey -> group name: b'grp2' with 0 consumers and b'0-0' as last read id\n",
      "s2key -> group name: b'grp2' with 0 consumers and b'0-0' as last read id\n"
     ]
    }
   ],
   "source": [
    "## create the group\n",
    "def create_group( skey, gname ):\n",
    "    try:\n",
    "        r.xgroup_create( name=skey, groupname=gname, id=0 )\n",
    "    except ResponseError as e:\n",
    "        print(f\"raised: {e}\")\n",
    "\n",
    "# group1 read the stream 'skey'\n",
    "create_group( stream_key, group1 )\n",
    "# group2 read the streams 'skey' and 's2key'\n",
    "create_group( stream_key, group2 )\n",
    "create_group( stream2_key, group2 )\n",
    "\n",
    "def group_info( skey ):\n",
    "    res = r.xinfo_groups( name=skey )\n",
    "    for i in res:\n",
    "        print( f\"{skey} -> group name: {i['name']} with {i['consumers']} consumers and {i['last-delivered-id']}\"\n",
    "              + f\" as last read id\")\n",
    "    \n",
    "group_info( stream_key )\n",
    "group_info( stream2_key )"
   ]
  },
  {
   "cell_type": "markdown",
   "metadata": {},
   "source": [
    "## 组读取\n",
    "\n",
    "`xreadgroup` 方法允许从流组中读取数据。"
   ]
  },
  {
   "cell_type": "code",
   "execution_count": 14,
   "metadata": {},
   "outputs": [],
   "source": [
    "def print_xreadgroup_reply( reply, group = None, run = None):\n",
    "    for d_stream in reply:\n",
    "        for element in d_stream[1]:\n",
    "            print(  f\"got element {element[0]}\"\n",
    "                  + f\"from stream {d_stream[0]}\" )\n",
    "            if run is not None:\n",
    "                run( d_stream[0], group, element[0] )"
   ]
  },
  {
   "cell_type": "code",
   "execution_count": 15,
   "metadata": {},
   "outputs": [
    {
     "name": "stdout",
     "output_type": "stream",
     "text": [
      "got element b'1710790167982-0'from stream b'skey'\n",
      "got element b'1710790167983-0'from stream b'skey'\n"
     ]
    }
   ],
   "source": [
    "# read some messages on group1 with consumer 'c' \n",
    "d = r.xreadgroup( groupname=group1, consumername='c', block=10,\n",
    "                  count=2, streams={stream_key:'>'})\n",
    "print_xreadgroup_reply( d )"
   ]
  },
  {
   "cell_type": "markdown",
   "metadata": {},
   "source": [
    "对于同一流组的 **第二个消费者**，将不会收到已经发送的消息。"
   ]
  },
  {
   "cell_type": "code",
   "execution_count": 16,
   "metadata": {},
   "outputs": [
    {
     "name": "stdout",
     "output_type": "stream",
     "text": [
      "got element b'1710790167983-1'from stream b'skey'\n",
      "got element b'1710790167983-2'from stream b'skey'\n"
     ]
    }
   ],
   "source": [
    "# read some messages on group1 with consumer 'c' \n",
    "d = r.xreadgroup( groupname=group1, consumername='c2', block=10,\n",
    "                  count=2, streams={stream_key:'>'})\n",
    "print_xreadgroup_reply( d )"
   ]
  },
  {
   "cell_type": "markdown",
   "metadata": {},
   "source": [
    "但是 **第二个流组** 可以再次读取已经发送的消息。\n",
    "\n",
    "注意，第二个流组也包括第二个流。这可以在回复中识别（回复列表的第一个元素）。"
   ]
  },
  {
   "cell_type": "code",
   "execution_count": 18,
   "metadata": {},
   "outputs": [
    {
     "name": "stdout",
     "output_type": "stream",
     "text": [
      "got element b'1710790167982-0'from stream b'skey'\n",
      "got element b'1710790167983-0'from stream b'skey'\n",
      "got element b'1710790173142-0'from stream b's2key'\n",
      "got element b'1710790173143-0'from stream b's2key'\n"
     ]
    }
   ],
   "source": [
    "d2 = r.xreadgroup( groupname=group2, consumername='c', block=10,\n",
    "                   count=2, streams={stream_key:'>',stream2_key:'>'})\n",
    "print_xreadgroup_reply( d2 )"
   ]
  },
  {
   "cell_type": "markdown",
   "metadata": {},
   "source": [
    "要检查待处理的消息（已发送但未确认的消息），我们可以使用 `xpending`。"
   ]
  },
  {
   "cell_type": "code",
   "execution_count": 19,
   "metadata": {},
   "outputs": [
    {
     "name": "stdout",
     "output_type": "stream",
     "text": [
      "4 pending messages on 'skey' for group 'grp1'\n",
      "2 pending messages on 'skey' for group 'grp2'\n",
      "2 pending messages on 's2key' for group 'grp2'\n"
     ]
    }
   ],
   "source": [
    "# check pending status (read messages without a ack)\n",
    "def print_pending_info( key_group ):\n",
    "    for s,k in key_group:\n",
    "        pr = r.xpending( name=s, groupname=k )\n",
    "        print( f\"{pr.get('pending')} pending messages on '{s}' for group '{k}'\" )\n",
    "    \n",
    "print_pending_info( ((stream_key,group1),(stream_key,group2),(stream2_key,group2)) )"
   ]
  },
  {
   "cell_type": "markdown",
   "metadata": {},
   "source": [
    "## 确认(ack)\n",
    "\n",
    "使用 `xack` 确认一些消息。"
   ]
  },
  {
   "cell_type": "code",
   "execution_count": 20,
   "metadata": {},
   "outputs": [
    {
     "name": "stdout",
     "output_type": "stream",
     "text": [
      "got element b'1710790167983-1'from stream b'skey'\n",
      "got element b'1710790167983-2'from stream b'skey'\n"
     ]
    }
   ],
   "source": [
    "# do acknowledges for group1\n",
    "toack = lambda k,g,e: r.xack( k,g, e )\n",
    "print_xreadgroup_reply( d, group=group1, run=toack )"
   ]
  },
  {
   "cell_type": "code",
   "execution_count": 21,
   "metadata": {},
   "outputs": [
    {
     "name": "stdout",
     "output_type": "stream",
     "text": [
      "2 pending messages on 'skey' for group 'grp1'\n",
      "2 pending messages on 'skey' for group 'grp2'\n",
      "2 pending messages on 's2key' for group 'grp2'\n"
     ]
    }
   ],
   "source": [
    "# check pending again\n",
    "print_pending_info( ((stream_key,group1),(stream_key,group2),(stream2_key,group2)) )"
   ]
  },
  {
   "cell_type": "markdown",
   "metadata": {},
   "source": [
    "确认 `group1` 中的所有消息."
   ]
  },
  {
   "cell_type": "code",
   "execution_count": 22,
   "metadata": {},
   "outputs": [
    {
     "name": "stdout",
     "output_type": "stream",
     "text": [
      "got element b'1710790167983-3'from stream b'skey'\n",
      "got element b'1710790167983-4'from stream b'skey'\n",
      "got element b'1710790167983-5'from stream b'skey'\n",
      "got element b'1710790167983-6'from stream b'skey'\n",
      "got element b'1710790167983-7'from stream b'skey'\n",
      "got element b'1710790167984-0'from stream b'skey'\n",
      "got element b'1710790173157-0'from stream b'skey'\n",
      "got element b'1710790173158-0'from stream b'skey'\n",
      "got element b'1710790173158-1'from stream b'skey'\n",
      "got element b'1710790173158-2'from stream b'skey'\n",
      "got element b'1710790173158-3'from stream b'skey'\n",
      "got element b'1710790173158-4'from stream b'skey'\n",
      "got element b'1710790173158-5'from stream b'skey'\n",
      "got element b'1710790173159-0'from stream b'skey'\n",
      "got element b'1710790173159-1'from stream b'skey'\n",
      "got element b'1710790173159-2'from stream b'skey'\n",
      "2 pending messages on 'skey' for group 'grp1'\n"
     ]
    }
   ],
   "source": [
    "d = r.xreadgroup( groupname=group1, consumername='c', block=10,\n",
    "                      count=100, streams={stream_key:'>'})\n",
    "print_xreadgroup_reply( d, group=group1, run=toack)\n",
    "print_pending_info( ((stream_key,group1),) )"
   ]
  },
  {
   "cell_type": "markdown",
   "metadata": {},
   "source": [
    "但是在对 `group1` 上的所有消息执行 `xack` 后，流的长度将保持不变。"
   ]
  },
  {
   "cell_type": "code",
   "execution_count": 24,
   "metadata": {},
   "outputs": [
    {
     "data": {
      "text/plain": [
       "20"
      ]
     },
     "execution_count": 24,
     "metadata": {},
     "output_type": "execute_result"
    }
   ],
   "source": [
    "r.xlen(stream_key)"
   ]
  },
  {
   "cell_type": "markdown",
   "metadata": {},
   "source": [
    "## 删除所有\n",
    "\n",
    "要删除消息，需要使用 `xdel` 显式删除它们。"
   ]
  },
  {
   "cell_type": "code",
   "execution_count": 25,
   "metadata": {},
   "outputs": [],
   "source": [
    "s1 = r.xread( streams={stream_key:0} )\n",
    "for streams in s1:\n",
    "    stream_name, messages = streams\n",
    "    # del all ids from the message list\n",
    "    [ r.xdel( stream_name, i[0] ) for i in messages ]"
   ]
  },
  {
   "cell_type": "markdown",
   "metadata": {},
   "source": [
    "流长度"
   ]
  },
  {
   "cell_type": "code",
   "execution_count": 26,
   "metadata": {},
   "outputs": [
    {
     "data": {
      "text/plain": [
       "0"
      ]
     },
     "execution_count": 26,
     "metadata": {},
     "output_type": "execute_result"
    }
   ],
   "source": [
    "r.xlen(stream_key)"
   ]
  },
  {
   "cell_type": "markdown",
   "metadata": {},
   "source": [
    "但使用 `xdel` 后，第二个组可以从 `skey` 中读取任何未处理的消息。"
   ]
  },
  {
   "cell_type": "code",
   "execution_count": 27,
   "metadata": {},
   "outputs": [
    {
     "name": "stdout",
     "output_type": "stream",
     "text": [
      "got element b'1657571042113-1'from stream b's2key'\n",
      "got element b'1657571042114-0'from stream b's2key'\n"
     ]
    }
   ],
   "source": [
    "d2 = r.xreadgroup( groupname=group2, consumername='c', block=10,\n",
    "                   count=2, streams={stream_key:'>',stream2_key:'>'})\n",
    "print_xreadgroup_reply( d2 )"
   ]
  },
  {
   "cell_type": "code",
   "execution_count": null,
   "metadata": {},
   "outputs": [],
   "source": []
  }
 ],
 "metadata": {
  "kernelspec": {
   "display_name": "Python 3",
   "language": "python",
   "name": "python3"
  },
  "language_info": {
   "codemirror_mode": {
    "name": "ipython",
    "version": 3
   },
   "file_extension": ".py",
   "mimetype": "text/x-python",
   "name": "python",
   "nbconvert_exporter": "python",
   "pygments_lexer": "ipython3",
   "version": "3.8.10"
  }
 },
 "nbformat": 4,
 "nbformat_minor": 4
}
