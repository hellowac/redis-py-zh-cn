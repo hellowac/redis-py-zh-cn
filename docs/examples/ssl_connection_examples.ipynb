{
 "cells": [
  {
   "cell_type": "markdown",
   "metadata": {},
   "source": [
    "# SSL 连接示例"
   ]
  },
  {
   "cell_type": "markdown",
   "metadata": {},
   "source": [
    "## 通过 SSL 连接到 Redis 实例"
   ]
  },
  {
   "cell_type": "code",
   "execution_count": null,
   "metadata": {},
   "outputs": [
    {
     "data": {
      "text/plain": [
       "True"
      ]
     },
     "execution_count": null,
     "metadata": {},
     "output_type": "execute_result"
    }
   ],
   "source": [
    "import redis\n",
    "\n",
    "r = redis.Redis(\n",
    "    host='localhost', \n",
    "    port=6666, \n",
    "    ssl=True, \n",
    "    ssl_cert_reqs=\"none\",\n",
    ")\n",
    "r.ping()"
   ]
  },
  {
   "cell_type": "markdown",
   "metadata": {},
   "source": [
    "## 通过 URL 字符串连接到 Redis 实例"
   ]
  },
  {
   "cell_type": "code",
   "execution_count": null,
   "metadata": {},
   "outputs": [
    {
     "data": {
      "text/plain": [
       "True"
      ]
     },
     "execution_count": null,
     "metadata": {},
     "output_type": "execute_result"
    }
   ],
   "source": [
    "import redis\n",
    "\n",
    "r = redis.from_url(\"rediss://localhost:6666?ssl_cert_reqs=none&decode_responses=True&health_check_interval=2\")\n",
    "r.ping()"
   ]
  },
  {
   "cell_type": "markdown",
   "metadata": {},
   "source": [
    "## 使用 ConnectionPool 连接到 Redis 实例"
   ]
  },
  {
   "cell_type": "code",
   "execution_count": null,
   "metadata": {},
   "outputs": [
    {
     "data": {
      "text/plain": [
       "True"
      ]
     },
     "execution_count": null,
     "metadata": {},
     "output_type": "execute_result"
    }
   ],
   "source": [
    "import redis\n",
    "\n",
    "redis_pool = redis.ConnectionPool(\n",
    "    host=\"localhost\", \n",
    "    port=6666, \n",
    "    connection_class=redis.SSLConnection, \n",
    "    ssl_cert_reqs=\"none\",\n",
    ")\n",
    "\n",
    "r = redis.StrictRedis(connection_pool=redis_pool) \n",
    "r.ping()"
   ]
  },
  {
   "cell_type": "markdown",
   "metadata": {},
   "source": [
    "## 通过 SSL 连接到 Redis 实例，同时指定最低 TLS 版本"
   ]
  },
  {
   "cell_type": "code",
   "execution_count": null,
   "metadata": {},
   "outputs": [
    {
     "data": {
      "text/plain": [
       "True"
      ]
     },
     "execution_count": null,
     "metadata": {},
     "output_type": "execute_result"
    }
   ],
   "source": [
    "import redis\n",
    "import ssl\n",
    "\n",
    "r = redis.Redis(\n",
    "    host=\"localhost\",\n",
    "    port=6666,\n",
    "    ssl=True,\n",
    "    ssl_min_version=ssl.TLSVersion.TLSv1_3,\n",
    "    ssl_cert_reqs=\"none\",\n",
    ")\n",
    "r.ping()"
   ]
  },
  {
   "cell_type": "markdown",
   "metadata": {},
   "source": [
    "## 通过 SSL 连接到 Redis 实例，同时指定自签名的 SSL CA 证书"
   ]
  },
  {
   "cell_type": "code",
   "execution_count": null,
   "metadata": {},
   "outputs": [
    {
     "data": {
      "text/plain": [
       "True"
      ]
     },
     "execution_count": null,
     "metadata": {},
     "output_type": "execute_result"
    }
   ],
   "source": [
    "import os\n",
    "import redis\n",
    "\n",
    "pki_dir = os.path.join(\"..\", \"..\", \"dockers\", \"stunnel\", \"keys\")\n",
    "\n",
    "r = redis.Redis(\n",
    "    host=\"localhost\",\n",
    "    port=6666,\n",
    "    ssl=True,\n",
    "    ssl_certfile=os.path.join(pki_dir, \"client-cert.pem\"),\n",
    "    ssl_keyfile=os.path.join(pki_dir, \"client-key.pem\"),\n",
    "    ssl_cert_reqs=\"required\",\n",
    "    ssl_ca_certs=os.path.join(pki_dir, \"ca-cert.pem\"),\n",
    ")\n",
    "r.ping()"
   ]
  },
  {
   "cell_type": "markdown",
   "metadata": {},
   "source": [
    "## 通过 SSL 连接到 Redis 实例，并验证证书的 OCSP 状态\n",
    "\n",
    "redis 包旨在保持小巧，这意味着必须安装额外的库以支持 OCSP stapling。因此，首先通过以下命令安装 redis：\n",
    "\n",
    "`pip install redis[ocsp]`\n",
    "\n",
    "这将安装 cryptography、requests 和 PyOpenSSL，这些库通常不需要用来使用 Redis。\n",
    "\n",
    "在下一个示例中，我们将通过 SSL 连接到 Redis 实例，并验证证书的 OCSP 状态。然而，我们使用的证书没有 AIA 扩展，这意味着无法执行 OCSP 验证。"
   ]
  },
  {
   "cell_type": "code",
   "execution_count": null,
   "metadata": {},
   "outputs": [
    {
     "name": "stdout",
     "output_type": "stream",
     "text": [
      "OCSP validation failed as expected.\n"
     ]
    }
   ],
   "source": [
    "import os\n",
    "import redis\n",
    "\n",
    "pki_dir = os.path.join(\"..\", \"..\", \"dockers\", \"stunnel\", \"keys\")\n",
    "\n",
    "r = redis.Redis(\n",
    "    host=\"localhost\",\n",
    "    port=6666,\n",
    "    ssl=True,\n",
    "    ssl_certfile=os.path.join(pki_dir, \"client-cert.pem\"),\n",
    "    ssl_keyfile=os.path.join(pki_dir, \"client-key.pem\"),\n",
    "    ssl_cert_reqs=\"required\",\n",
    "    ssl_ca_certs=os.path.join(pki_dir, \"ca-cert.pem\"),\n",
    "    ssl_validate_ocsp=True,\n",
    ")\n",
    "\n",
    "try:\n",
    "    r.ping()\n",
    "except redis.ConnectionError as e:\n",
    "    assert e.args[0] == \"No AIA information present in ssl certificate\"\n",
    "    print(\"OCSP validation failed as expected.\")"
   ]
  },
  {
   "cell_type": "markdown",
   "metadata": {},
   "source": [
    "## 通过 SSL 连接到 Redis 实例，并验证 OCSP stapled 证书\n",
    "\n",
    "也可以验证 OCSP stapled 响应。同样，在这个示例中，服务器并未发送 OCSP stapled 响应，因此验证将失败。"
   ]
  },
  {
   "cell_type": "code",
   "execution_count": null,
   "metadata": {},
   "outputs": [
    {
     "name": "stdout",
     "output_type": "stream",
     "text": [
      "OCSP validation failed as expected.\n"
     ]
    }
   ],
   "source": [
    "import os\n",
    "import redis\n",
    "\n",
    "pki_dir = os.path.join(\"..\", \"..\", \"dockers\", \"stunnel\", \"keys\")\n",
    "ca_cert = os.path.join(pki_dir, \"ca-cert.pem\")\n",
    "\n",
    "# It is possible to specify an expected certificate, or leave it out.\n",
    "expected_certificate = open(ca_cert, 'rb').read()\n",
    "\n",
    "# If needed, a custom SSL context for OCSP can be specified via ssl_ocsp_context\n",
    "\n",
    "r = redis.Redis(\n",
    "    host=\"localhost\",\n",
    "    port=6666,\n",
    "    ssl=True,\n",
    "    ssl_certfile=os.path.join(pki_dir, \"client-cert.pem\"),\n",
    "    ssl_keyfile=os.path.join(pki_dir, \"client-key.pem\"),\n",
    "    ssl_cert_reqs=\"required\",\n",
    "    ssl_ca_certs=ca_cert,\n",
    "    ssl_validate_ocsp_stapled=True,\n",
    "    ssl_ocsp_expected_cert=expected_certificate,\n",
    ")\n",
    "\n",
    "try:\n",
    "    r.ping()\n",
    "except redis.ConnectionError as e:\n",
    "    assert e.args[0] == \"no ocsp response present\"\n",
    "    print(\"OCSP validation failed as expected.\")"
   ]
  }
 ],
 "metadata": {
  "interpreter": {
   "hash": "d45c99ba0feda92868abafa8257cbb4709c97f1a0b5dc62bbeebdf89d4fad7fe"
  },
  "kernelspec": {
   "display_name": "Python 3 (ipykernel)",
   "language": "python",
   "name": "python3"
  },
  "language_info": {
   "codemirror_mode": {
    "name": "ipython",
    "version": 3
   },
   "file_extension": ".py",
   "mimetype": "text/x-python",
   "name": "python",
   "nbconvert_exporter": "python",
   "pygments_lexer": "ipython3"
  }
 },
 "nbformat": 4,
 "nbformat_minor": 4
}
